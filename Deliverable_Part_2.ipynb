{
 "cells": [
  {
   "cell_type": "markdown",
   "metadata": {},
   "source": [
    "<table style=\"font-size: 1em; padding: 0; margin: 0;\">\n",
    "<p style=\"border: 1px solid #ff5733; border-left: 15px solid #ff5733; padding: 10px; text-align:justify;\">\n",
    "    <strong style=\"color: #ff5733\">Deliverable</strong>  \n",
    "    <br/>The deliverable for Part 2 is a jupyter notebook showing a workflow to create test and training datasets, consisting of folders of imagery and corresponding label imagery, ready for training a semantic segmentation model in keras. This will mostly test your understanding the generic workflow for preparing a dataset to train and test a deep learning model, which is an essential component of the remaining Parts.\n",
    "    </p>"
   ]
  },
  {
   "cell_type": "markdown",
   "metadata": {},
   "source": [
    "##### NWPU image labels"
   ]
  },
  {
   "cell_type": "markdown",
   "metadata": {},
   "source": [
    "To get you started on the NWPU lakes dataset for model training, three files are provided with labels are provided for a total of 70 lake images (10% of the total number). These files are ```nwpu_labels\\nwpu_lakes_30samples.json```, ```nwpu_labels\\nwpu_lakes_20samplesA.json```, and ```nwpu_labels\\nwpu_lakes_20samplesB.json```. You may use these as, respectively, train, test and validation sets, or alternatively in any way you choose. You are strongly recommended to create more of your own label images. Deep neural networks tend to work well when they have lots (and lots!) of examples to learn from."
   ]
  },
  {
   "cell_type": "code",
   "execution_count": 1,
   "metadata": {},
   "outputs": [],
   "source": [
    "import json, os\n",
    "import numpy as np\n",
    "import rasterio\n",
    "import matplotlib\n",
    "import matplotlib.pyplot as plt\n",
    "# import some drawing tools from PIL\n",
    "from PIL import Image, ImageDraw\n",
    "%matplotlib inline"
   ]
  },
  {
   "cell_type": "code",
   "execution_count": 2,
   "metadata": {},
   "outputs": [],
   "source": [
    "# Funcion : prepara los datos, extrayendo las coordenadas de todos los poligonos desde un arreglo desde un json\n",
    "def preparar_datos(data, images, i):\n",
    "    X = []; Y = [] #pre-allocate lists to fill in a for loop\n",
    "    for k in data[images[i]]['regions']: #cycle through each polygon\n",
    "        # get the x and y points from the dictionary\n",
    "        X.append(data[images[i]]['regions'][k]['shape_attributes']['all_points_x'])\n",
    "        Y.append(data[images[i]]['regions'][k]['shape_attributes']['all_points_y'])\n",
    "    # make a plot of the image, create a title (the image filename)    \n",
    "    #plt.imshow(all_images[i])\n",
    "    #plt.title(images[i])\n",
    "    # plot each polygon and turn the axes off\n",
    "    #for k in range(len(X)):\n",
    "    #    plt.plot(Y[k],X[k])\n",
    "    #plt.axis('off')\n",
    "    snombre=images[i]\n",
    "    return Y,X,snombre #image coordinates are flipped (volteadas) relative to json coordinates"
   ]
  },
  {
   "cell_type": "code",
   "execution_count": 3,
   "metadata": {},
   "outputs": [],
   "source": [
    "# Funcion : genera la mascara a partir de las coordenadas extraida de un json\n",
    "# y genera una mascara de tamaño similar a imagen asociada \n",
    "def genera_mascara(all_images,X,Y,i):\n",
    "    # get the dimensions of the image\n",
    "    nx, ny, nz = np.shape(all_images[i])\n",
    "    mask = np.zeros((ny,nx))\n",
    "    \n",
    "    for x,y in zip(X,Y):\n",
    "        # the ImageDraw.Draw().polygon function we will use to create the mask\n",
    "        # requires the x's and y's are interweaved-entrelazados, which is what the following\n",
    "        # one-liner does    \n",
    "        polygon = np.vstack((x,y)).reshape((-1,),order='F').tolist()\n",
    "\n",
    "        # create a mask image of the right size and infill according to the polygon\n",
    "        if nx>ny:\n",
    "            x,y = y,x \n",
    "            img = Image.new('L', (ny, nx), 0)\n",
    "        #elif ny>nx:\n",
    "        #    x,y = y,x \n",
    "        #    img = Image.new('L', (ny, nx), 0)            \n",
    "        else:\n",
    "            img = Image.new('L', (nx, ny), 0)\n",
    "\n",
    "        ImageDraw.Draw(img).polygon(polygon, outline=1, fill=1)\n",
    "        # turn into a numpy array\n",
    "        m = np.array(img)\n",
    "        mask = mask + m\n",
    "    return mask"
   ]
  },
  {
   "cell_type": "markdown",
   "metadata": {},
   "source": [
    "## Archivo : nwpu_labels\\nwpu_lakes_30samples.json"
   ]
  },
  {
   "cell_type": "code",
   "execution_count": 4,
   "metadata": {},
   "outputs": [
    {
     "name": "stdout",
     "output_type": "stream",
     "text": [
      "['lake_001.jpg', 'lake_002.jpg', 'lake_003.jpg', 'lake_004.jpg', 'lake_005.jpg', 'lake_006.jpg', 'lake_007.jpg', 'lake_008.jpg', 'lake_009.jpg', 'lake_010.jpg', 'lake_011.jpg', 'lake_012.jpg', 'lake_013.jpg', 'lake_014.jpg', 'lake_015.jpg', 'lake_016.jpg', 'lake_017.jpg', 'lake_018.jpg', 'lake_019.jpg', 'lake_020.jpg', 'lake_642.jpg', 'lake_648.jpg', 'lake_660.jpg', 'lake_678.jpg', 'lake_681.jpg', 'lake_682.jpg', 'lake_690.jpg', 'lake_693.jpg', 'lake_694.jpg', 'lake_695.jpg']\n",
      "30\n"
     ]
    }
   ],
   "source": [
    "data = json.load(open('nwpu_labels'+os.sep+'nwpu_lakes_30samples.json'))\n",
    "images = sorted(data.keys())\n",
    "print(images)\n",
    "print(len(images))"
   ]
  },
  {
   "cell_type": "code",
   "execution_count": 5,
   "metadata": {},
   "outputs": [
    {
     "name": "stderr",
     "output_type": "stream",
     "text": [
      "C:\\Anaconda3\\envs\\liveproject\\lib\\site-packages\\rasterio\\__init__.py:219: NotGeoreferencedWarning: Dataset has no geotransform set. The identity matrix may be returned.\n",
      "  s = DatasetReader(path, driver=driver, sharing=sharing, **kwargs)\n"
     ]
    }
   ],
   "source": [
    "all_images = []\n",
    "for image in images:\n",
    "    with rasterio.open('nwpu_images'+os.sep+'data'+os.sep+image) as dataset:\n",
    "        all_images.append(dataset.read().T)"
   ]
  },
  {
   "cell_type": "code",
   "execution_count": 6,
   "metadata": {},
   "outputs": [],
   "source": [
    "sup=len(images)\n",
    "for i in range(0,sup):\n",
    "    X,Y,stitle = preparar_datos(data,images,i)\n",
    "    #print(stitle)\n",
    "    mascara = genera_mascara(all_images,X,Y,i)\n",
    "    # Graba la mascara en una carpeta con el nombre de la imagen asociada\n",
    "    matplotlib.image.imsave('nwpu_mask'+os.sep+stitle, mascara.astype('uint8'))"
   ]
  },
  {
   "cell_type": "markdown",
   "metadata": {},
   "source": [
    "## Archivo : nwpu_labels\\nwpu_lakes_20samplesA.json"
   ]
  },
  {
   "cell_type": "code",
   "execution_count": 7,
   "metadata": {},
   "outputs": [
    {
     "name": "stdout",
     "output_type": "stream",
     "text": [
      "['lake_021.jpg', 'lake_022.jpg', 'lake_023.jpg', 'lake_024.jpg', 'lake_025.jpg', 'lake_026.jpg', 'lake_028.jpg', 'lake_029.jpg', 'lake_030.jpg', 'lake_031.jpg', 'lake_032.jpg', 'lake_033.jpg', 'lake_034.jpg', 'lake_035.jpg', 'lake_036.jpg', 'lake_037.jpg', 'lake_038.jpg', 'lake_039.jpg', 'lake_040.jpg', 'lake_041.jpg']\n",
      "20\n"
     ]
    }
   ],
   "source": [
    "data2A = json.load(open('nwpu_labels'+os.sep+'nwpu_lakes_20samplesA.json'))\n",
    "images2A = sorted(data2A.keys())\n",
    "print(images2A)\n",
    "print(len(images2A))"
   ]
  },
  {
   "cell_type": "code",
   "execution_count": 8,
   "metadata": {},
   "outputs": [],
   "source": [
    "all_images2A = []\n",
    "for image in images2A:\n",
    "    with rasterio.open('nwpu_images'+os.sep+'data'+os.sep+image) as dataset:\n",
    "        all_images2A.append(dataset.read().T)"
   ]
  },
  {
   "cell_type": "code",
   "execution_count": 9,
   "metadata": {},
   "outputs": [],
   "source": [
    "sup2A=len(images2A)\n",
    "for i in range(0,sup2A):\n",
    "    X,Y,stitle = preparar_datos(data2A,images2A,i)\n",
    "    #print(stitle)\n",
    "    mascara = genera_mascara(all_images2A,X,Y,i)\n",
    "    # Graba la mascara en una carpeta con el nombre de la imagen asociada\n",
    "    matplotlib.image.imsave('nwpu_mask'+os.sep+stitle, mascara.astype('uint8'))"
   ]
  },
  {
   "cell_type": "markdown",
   "metadata": {},
   "source": [
    "## Archivo : nwpu_labels\\nwpu_lakes_20samplesB.json"
   ]
  },
  {
   "cell_type": "code",
   "execution_count": 10,
   "metadata": {},
   "outputs": [
    {
     "name": "stdout",
     "output_type": "stream",
     "text": [
      "['lake_042.jpg', 'lake_043.jpg', 'lake_044.jpg', 'lake_045.jpg', 'lake_046.jpg', 'lake_047.jpg', 'lake_048.jpg', 'lake_049.jpg', 'lake_050.jpg', 'lake_051.jpg', 'lake_052.jpg', 'lake_053.jpg', 'lake_054.jpg', 'lake_055.jpg', 'lake_056.jpg', 'lake_057.jpg', 'lake_058.jpg', 'lake_059.jpg', 'lake_060.jpg', 'lake_061.jpg']\n",
      "20\n"
     ]
    }
   ],
   "source": [
    "data2B = json.load(open('nwpu_labels'+os.sep+'nwpu_lakes_20samplesB.json'))\n",
    "images2B = sorted(data2B.keys())\n",
    "print(images2B)\n",
    "print(len(images2B))"
   ]
  },
  {
   "cell_type": "code",
   "execution_count": 11,
   "metadata": {},
   "outputs": [],
   "source": [
    "all_images2B = []\n",
    "for image in images2B:\n",
    "    with rasterio.open('nwpu_images'+os.sep+'data'+os.sep+image) as dataset:\n",
    "        all_images2B.append(dataset.read().T)"
   ]
  },
  {
   "cell_type": "code",
   "execution_count": 12,
   "metadata": {},
   "outputs": [],
   "source": [
    "sup2B=len(images2B)\n",
    "for i in range(0,sup2B):\n",
    "    X,Y,stitle = preparar_datos(data2B,images2B,i)\n",
    "    #print(stitle)\n",
    "    mascara = genera_mascara(all_images2B,X,Y,i)\n",
    "    # Graba la mascara en una carpeta con el nombre de la imagen asociada\n",
    "    matplotlib.image.imsave('nwpu_mask'+os.sep+stitle, mascara.astype('uint8'))"
   ]
  },
  {
   "cell_type": "code",
   "execution_count": null,
   "metadata": {},
   "outputs": [],
   "source": []
  }
 ],
 "metadata": {
  "kernelspec": {
   "display_name": "Python [conda env:liveproject]",
   "language": "python",
   "name": "conda-env-liveproject-py"
  },
  "language_info": {
   "codemirror_mode": {
    "name": "ipython",
    "version": 3
   },
   "file_extension": ".py",
   "mimetype": "text/x-python",
   "name": "python",
   "nbconvert_exporter": "python",
   "pygments_lexer": "ipython3",
   "version": "3.6.5"
  }
 },
 "nbformat": 4,
 "nbformat_minor": 2
}
